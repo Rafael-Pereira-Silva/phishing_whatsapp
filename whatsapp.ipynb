{
  "nbformat": 4,
  "nbformat_minor": 0,
  "metadata": {
    "colab": {
      "name": "whatsapp",
      "provenance": [],
      "collapsed_sections": []
    },
    "kernelspec": {
      "name": "python3",
      "display_name": "Python 3"
    },
    "language_info": {
      "name": "python"
    }
  },
  "cells": [
    {
      "cell_type": "code",
      "source": [
        "!pip install -q pyngrok"
      ],
      "metadata": {
        "id": "4-7Or1G9mtcU",
        "colab": {
          "base_uri": "https://localhost:8080/"
        },
        "outputId": "b5d743b6-2405-462b-8e45-791ba49f5801"
      },
      "execution_count": 1,
      "outputs": [
        {
          "output_type": "stream",
          "name": "stdout",
          "text": [
            "\u001b[?25l\r\u001b[K     |▍                               | 10 kB 29.1 MB/s eta 0:00:01\r\u001b[K     |▉                               | 20 kB 14.5 MB/s eta 0:00:01\r\u001b[K     |█▎                              | 30 kB 10.2 MB/s eta 0:00:01\r\u001b[K     |█▊                              | 40 kB 3.9 MB/s eta 0:00:01\r\u001b[K     |██▏                             | 51 kB 3.8 MB/s eta 0:00:01\r\u001b[K     |██▋                             | 61 kB 4.5 MB/s eta 0:00:01\r\u001b[K     |███                             | 71 kB 4.8 MB/s eta 0:00:01\r\u001b[K     |███▌                            | 81 kB 5.0 MB/s eta 0:00:01\r\u001b[K     |████                            | 92 kB 5.6 MB/s eta 0:00:01\r\u001b[K     |████▍                           | 102 kB 4.4 MB/s eta 0:00:01\r\u001b[K     |████▉                           | 112 kB 4.4 MB/s eta 0:00:01\r\u001b[K     |█████▎                          | 122 kB 4.4 MB/s eta 0:00:01\r\u001b[K     |█████▊                          | 133 kB 4.4 MB/s eta 0:00:01\r\u001b[K     |██████▏                         | 143 kB 4.4 MB/s eta 0:00:01\r\u001b[K     |██████▋                         | 153 kB 4.4 MB/s eta 0:00:01\r\u001b[K     |███████                         | 163 kB 4.4 MB/s eta 0:00:01\r\u001b[K     |███████▌                        | 174 kB 4.4 MB/s eta 0:00:01\r\u001b[K     |████████                        | 184 kB 4.4 MB/s eta 0:00:01\r\u001b[K     |████████▍                       | 194 kB 4.4 MB/s eta 0:00:01\r\u001b[K     |████████▉                       | 204 kB 4.4 MB/s eta 0:00:01\r\u001b[K     |█████████▎                      | 215 kB 4.4 MB/s eta 0:00:01\r\u001b[K     |█████████▊                      | 225 kB 4.4 MB/s eta 0:00:01\r\u001b[K     |██████████▏                     | 235 kB 4.4 MB/s eta 0:00:01\r\u001b[K     |██████████▌                     | 245 kB 4.4 MB/s eta 0:00:01\r\u001b[K     |███████████                     | 256 kB 4.4 MB/s eta 0:00:01\r\u001b[K     |███████████▍                    | 266 kB 4.4 MB/s eta 0:00:01\r\u001b[K     |███████████▉                    | 276 kB 4.4 MB/s eta 0:00:01\r\u001b[K     |████████████▎                   | 286 kB 4.4 MB/s eta 0:00:01\r\u001b[K     |████████████▊                   | 296 kB 4.4 MB/s eta 0:00:01\r\u001b[K     |█████████████▏                  | 307 kB 4.4 MB/s eta 0:00:01\r\u001b[K     |█████████████▋                  | 317 kB 4.4 MB/s eta 0:00:01\r\u001b[K     |██████████████                  | 327 kB 4.4 MB/s eta 0:00:01\r\u001b[K     |██████████████▌                 | 337 kB 4.4 MB/s eta 0:00:01\r\u001b[K     |███████████████                 | 348 kB 4.4 MB/s eta 0:00:01\r\u001b[K     |███████████████▍                | 358 kB 4.4 MB/s eta 0:00:01\r\u001b[K     |███████████████▉                | 368 kB 4.4 MB/s eta 0:00:01\r\u001b[K     |████████████████▎               | 378 kB 4.4 MB/s eta 0:00:01\r\u001b[K     |████████████████▊               | 389 kB 4.4 MB/s eta 0:00:01\r\u001b[K     |█████████████████▏              | 399 kB 4.4 MB/s eta 0:00:01\r\u001b[K     |█████████████████▋              | 409 kB 4.4 MB/s eta 0:00:01\r\u001b[K     |██████████████████              | 419 kB 4.4 MB/s eta 0:00:01\r\u001b[K     |██████████████████▌             | 430 kB 4.4 MB/s eta 0:00:01\r\u001b[K     |███████████████████             | 440 kB 4.4 MB/s eta 0:00:01\r\u001b[K     |███████████████████▍            | 450 kB 4.4 MB/s eta 0:00:01\r\u001b[K     |███████████████████▉            | 460 kB 4.4 MB/s eta 0:00:01\r\u001b[K     |████████████████████▎           | 471 kB 4.4 MB/s eta 0:00:01\r\u001b[K     |████████████████████▋           | 481 kB 4.4 MB/s eta 0:00:01\r\u001b[K     |█████████████████████           | 491 kB 4.4 MB/s eta 0:00:01\r\u001b[K     |█████████████████████▌          | 501 kB 4.4 MB/s eta 0:00:01\r\u001b[K     |██████████████████████          | 512 kB 4.4 MB/s eta 0:00:01\r\u001b[K     |██████████████████████▍         | 522 kB 4.4 MB/s eta 0:00:01\r\u001b[K     |██████████████████████▉         | 532 kB 4.4 MB/s eta 0:00:01\r\u001b[K     |███████████████████████▎        | 542 kB 4.4 MB/s eta 0:00:01\r\u001b[K     |███████████████████████▊        | 552 kB 4.4 MB/s eta 0:00:01\r\u001b[K     |████████████████████████▏       | 563 kB 4.4 MB/s eta 0:00:01\r\u001b[K     |████████████████████████▋       | 573 kB 4.4 MB/s eta 0:00:01\r\u001b[K     |█████████████████████████       | 583 kB 4.4 MB/s eta 0:00:01\r\u001b[K     |█████████████████████████▌      | 593 kB 4.4 MB/s eta 0:00:01\r\u001b[K     |██████████████████████████      | 604 kB 4.4 MB/s eta 0:00:01\r\u001b[K     |██████████████████████████▍     | 614 kB 4.4 MB/s eta 0:00:01\r\u001b[K     |██████████████████████████▉     | 624 kB 4.4 MB/s eta 0:00:01\r\u001b[K     |███████████████████████████▎    | 634 kB 4.4 MB/s eta 0:00:01\r\u001b[K     |███████████████████████████▊    | 645 kB 4.4 MB/s eta 0:00:01\r\u001b[K     |████████████████████████████▏   | 655 kB 4.4 MB/s eta 0:00:01\r\u001b[K     |████████████████████████████▋   | 665 kB 4.4 MB/s eta 0:00:01\r\u001b[K     |█████████████████████████████   | 675 kB 4.4 MB/s eta 0:00:01\r\u001b[K     |█████████████████████████████▌  | 686 kB 4.4 MB/s eta 0:00:01\r\u001b[K     |██████████████████████████████  | 696 kB 4.4 MB/s eta 0:00:01\r\u001b[K     |██████████████████████████████▍ | 706 kB 4.4 MB/s eta 0:00:01\r\u001b[K     |██████████████████████████████▊ | 716 kB 4.4 MB/s eta 0:00:01\r\u001b[K     |███████████████████████████████▏| 727 kB 4.4 MB/s eta 0:00:01\r\u001b[K     |███████████████████████████████▋| 737 kB 4.4 MB/s eta 0:00:01\r\u001b[K     |████████████████████████████████| 745 kB 4.4 MB/s \n",
            "\u001b[?25h  Building wheel for pyngrok (setup.py) ... \u001b[?25l\u001b[?25hdone\n"
          ]
        }
      ]
    },
    {
      "cell_type": "code",
      "source": [
        "!pip install -q streamlit\n",
        "!pip install -q streamlit_ace"
      ],
      "metadata": {
        "id": "NORAUuL-mu7D",
        "colab": {
          "base_uri": "https://localhost:8080/"
        },
        "outputId": "72815e03-d83f-498a-a3d3-95cb4f60c997"
      },
      "execution_count": 2,
      "outputs": [
        {
          "output_type": "stream",
          "name": "stdout",
          "text": [
            "\u001b[K     |████████████████████████████████| 9.1 MB 4.3 MB/s \n",
            "\u001b[K     |████████████████████████████████| 78 kB 6.2 MB/s \n",
            "\u001b[K     |████████████████████████████████| 164 kB 81.7 MB/s \n",
            "\u001b[K     |████████████████████████████████| 235 kB 49.9 MB/s \n",
            "\u001b[K     |████████████████████████████████| 4.3 MB 11.7 MB/s \n",
            "\u001b[K     |████████████████████████████████| 181 kB 48.9 MB/s \n",
            "\u001b[K     |████████████████████████████████| 63 kB 1.4 MB/s \n",
            "\u001b[K     |████████████████████████████████| 132 kB 60.6 MB/s \n",
            "\u001b[K     |████████████████████████████████| 132 kB 62.7 MB/s \n",
            "\u001b[K     |████████████████████████████████| 793 kB 62.8 MB/s \n",
            "\u001b[K     |████████████████████████████████| 423 kB 59.4 MB/s \n",
            "\u001b[K     |████████████████████████████████| 381 kB 61.9 MB/s \n",
            "\u001b[K     |████████████████████████████████| 51 kB 7.5 MB/s \n",
            "\u001b[?25h  Building wheel for validators (setup.py) ... \u001b[?25l\u001b[?25hdone\n",
            "\u001b[31mERROR: pip's dependency resolver does not currently take into account all the packages that are installed. This behaviour is the source of the following dependency conflicts.\n",
            "nbclient 0.6.6 requires traitlets>=5.2.2, but you have traitlets 5.1.1 which is incompatible.\n",
            "jupyter-console 5.2.0 requires prompt-toolkit<2.0.0,>=1.0.0, but you have prompt-toolkit 3.0.30 which is incompatible.\n",
            "google-colab 1.0.0 requires ipykernel~=4.10, but you have ipykernel 6.15.1 which is incompatible.\n",
            "google-colab 1.0.0 requires ipython~=5.5.0, but you have ipython 7.34.0 which is incompatible.\n",
            "google-colab 1.0.0 requires tornado~=5.1.0, but you have tornado 6.2 which is incompatible.\u001b[0m\n",
            "\u001b[K     |████████████████████████████████| 3.6 MB 4.3 MB/s \n",
            "\u001b[?25h"
          ]
        }
      ]
    },
    {
      "cell_type": "code",
      "source": [
        "!streamlit run app.py &>/dev/null&"
      ],
      "metadata": {
        "id": "Jp1Jyyntmw5L"
      },
      "execution_count": 3,
      "outputs": []
    },
    {
      "cell_type": "code",
      "source": [
        "!pip install fuzzywuzzy[speedup]"
      ],
      "metadata": {
        "id": "_lqdhbUXxt6_",
        "colab": {
          "base_uri": "https://localhost:8080/"
        },
        "outputId": "3f7a8a2f-64f8-4297-f6ec-008d3a81b480"
      },
      "execution_count": 4,
      "outputs": [
        {
          "output_type": "stream",
          "name": "stdout",
          "text": [
            "Looking in indexes: https://pypi.org/simple, https://us-python.pkg.dev/colab-wheels/public/simple/\n",
            "Collecting fuzzywuzzy[speedup]\n",
            "  Downloading fuzzywuzzy-0.18.0-py2.py3-none-any.whl (18 kB)\n",
            "Collecting python-levenshtein>=0.12\n",
            "  Downloading python-Levenshtein-0.12.2.tar.gz (50 kB)\n",
            "\u001b[K     |████████████████████████████████| 50 kB 2.6 MB/s \n",
            "\u001b[?25hRequirement already satisfied: setuptools in /usr/local/lib/python3.7/dist-packages (from python-levenshtein>=0.12->fuzzywuzzy[speedup]) (57.4.0)\n",
            "Building wheels for collected packages: python-levenshtein\n",
            "  Building wheel for python-levenshtein (setup.py) ... \u001b[?25l\u001b[?25hdone\n",
            "  Created wheel for python-levenshtein: filename=python_Levenshtein-0.12.2-cp37-cp37m-linux_x86_64.whl size=149858 sha256=f255034f8a58000488691921b42cb513004c9443e6ed1f68e6d8be9ded95fabf\n",
            "  Stored in directory: /root/.cache/pip/wheels/05/5f/ca/7c4367734892581bb5ff896f15027a932c551080b2abd3e00d\n",
            "Successfully built python-levenshtein\n",
            "Installing collected packages: python-levenshtein, fuzzywuzzy\n",
            "Successfully installed fuzzywuzzy-0.18.0 python-levenshtein-0.12.2\n"
          ]
        }
      ]
    },
    {
      "cell_type": "code",
      "source": [
        "%%writefile app.py\n",
        "import streamlit as st\n",
        "import json\n",
        "import requests as req\n",
        "from fuzzywuzzy import process\n",
        "from fuzzywuzzy import fuzz\n",
        "from pyngrok import ngrok\n",
        "\n",
        "def main():\n",
        "\n",
        "  html_temp = \"\"\" \n",
        "  <div style =\"background-color:green;padding:13px\"> \n",
        "  <h1>Phishing via Whatsapp</h1> \n",
        "  </div> \n",
        "  \"\"\"      \n",
        "  st.markdown(html_temp, unsafe_allow_html = True) \n",
        "  item = st.text_input('Item')\n",
        "\n",
        "  def verificarNome(item):\n",
        "    res = req.get('https://rafael-pereira-silva.github.io/whatsapp.json')\n",
        "    dict = res.json()['whatsapp']\n",
        "    lista_fuzzy = process.extract(item, dict)\n",
        "    resultado = []\n",
        "    for sublista in lista_fuzzy: \n",
        "        if sublista[1] > 82:\n",
        "          resultado.append(sublista)\n",
        "    if len(resultado) >= 1:\n",
        "      st.success('Atenção, isso pode ser uma fraude')\n",
        "    if len(resultado) < 1:\n",
        "      st.success('Isso provavelmente não é uma fraude')    \n",
        "  if st.button(\"Verificar\"):\n",
        "    verificarNome(item)\n",
        "\n",
        "if __name__=='__main__': \n",
        "    main()"
      ],
      "metadata": {
        "colab": {
          "base_uri": "https://localhost:8080/"
        },
        "id": "R1IHTnwjm46G",
        "outputId": "52bc6728-503e-41ed-e255-df62f0264d99"
      },
      "execution_count": 9,
      "outputs": [
        {
          "output_type": "stream",
          "name": "stdout",
          "text": [
            "Overwriting app.py\n"
          ]
        }
      ]
    },
    {
      "cell_type": "code",
      "source": [
        " !streamlit run app.py & npx localtunnel --port 8501"
      ],
      "metadata": {
        "colab": {
          "base_uri": "https://localhost:8080/"
        },
        "id": "HvI2DiaXuy1X",
        "outputId": "6d1dad69-bd98-43e6-e16a-c7c9ac033b04"
      },
      "execution_count": null,
      "outputs": [
        {
          "output_type": "stream",
          "name": "stdout",
          "text": [
            "2022-08-03 23:30:09.181 INFO    numexpr.utils: NumExpr defaulting to 2 threads.\n",
            "\u001b[K\u001b[?25hnpx: installed 22 in 2.341s\n",
            "your url is: https://slimy-toys-watch-35-201-249-224.loca.lt\n"
          ]
        }
      ]
    }
  ]
}